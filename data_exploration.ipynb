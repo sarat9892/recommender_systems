{
 "cells": [
  {
   "cell_type": "markdown",
   "id": "c7cda4fc-419e-4951-b804-05f328c0781f",
   "metadata": {},
   "source": [
    "# Recommender System\n",
    "\n",
    "## Exploratory Data Analysis"
   ]
  },
  {
   "cell_type": "markdown",
   "id": "3b2401c9-60f6-4c7c-b420-acb8b3a2644e",
   "metadata": {},
   "source": []
  },
  {
   "cell_type": "code",
   "execution_count": 1,
   "id": "d66954a8-9483-4aaf-b7ee-0d145a8602aa",
   "metadata": {},
   "outputs": [],
   "source": [
    "from pathlib import Path\n",
    "\n",
    "import pandas as pd\n",
    "import scipy"
   ]
  },
  {
   "cell_type": "markdown",
   "id": "51ee7b4a-2880-4de5-9507-7bafa9420dab",
   "metadata": {},
   "source": [
    "#### Loading the User Artist Interactions Data"
   ]
  },
  {
   "cell_type": "code",
   "execution_count": null,
   "id": "0709c0cc-04e4-48c2-bd7a-cad0b0289e14",
   "metadata": {},
   "outputs": [],
   "source": [
    "user_artist_path = \"data/user_artists.dat\"\n",
    "user_artist_plays = pd.read_csv(user_artist_path, sep=\"\\t\")\n",
    "\n",
    "\n",
    "user_artist_plays.set_index([\"userID\", \"artistID\"], inplace=True)"
   ]
  },
  {
   "cell_type": "code",
   "execution_count": 7,
   "id": "3858288c-6051-4fb9-a36e-16949099d7f9",
   "metadata": {
    "scrolled": true
   },
   "outputs": [
    {
     "data": {
      "text/html": [
       "<div>\n",
       "<style scoped>\n",
       "    .dataframe tbody tr th:only-of-type {\n",
       "        vertical-align: middle;\n",
       "    }\n",
       "\n",
       "    .dataframe tbody tr th {\n",
       "        vertical-align: top;\n",
       "    }\n",
       "\n",
       "    .dataframe thead th {\n",
       "        text-align: right;\n",
       "    }\n",
       "</style>\n",
       "<table border=\"1\" class=\"dataframe\">\n",
       "  <thead>\n",
       "    <tr style=\"text-align: right;\">\n",
       "      <th></th>\n",
       "      <th></th>\n",
       "      <th>weight</th>\n",
       "    </tr>\n",
       "    <tr>\n",
       "      <th>userID</th>\n",
       "      <th>artistID</th>\n",
       "      <th></th>\n",
       "    </tr>\n",
       "  </thead>\n",
       "  <tbody>\n",
       "    <tr>\n",
       "      <th rowspan=\"5\" valign=\"top\">2</th>\n",
       "      <th>51</th>\n",
       "      <td>13883</td>\n",
       "    </tr>\n",
       "    <tr>\n",
       "      <th>52</th>\n",
       "      <td>11690</td>\n",
       "    </tr>\n",
       "    <tr>\n",
       "      <th>53</th>\n",
       "      <td>11351</td>\n",
       "    </tr>\n",
       "    <tr>\n",
       "      <th>54</th>\n",
       "      <td>10300</td>\n",
       "    </tr>\n",
       "    <tr>\n",
       "      <th>55</th>\n",
       "      <td>8983</td>\n",
       "    </tr>\n",
       "    <tr>\n",
       "      <th>...</th>\n",
       "      <th>...</th>\n",
       "      <td>...</td>\n",
       "    </tr>\n",
       "    <tr>\n",
       "      <th rowspan=\"5\" valign=\"top\">2100</th>\n",
       "      <th>18726</th>\n",
       "      <td>337</td>\n",
       "    </tr>\n",
       "    <tr>\n",
       "      <th>18727</th>\n",
       "      <td>297</td>\n",
       "    </tr>\n",
       "    <tr>\n",
       "      <th>18728</th>\n",
       "      <td>281</td>\n",
       "    </tr>\n",
       "    <tr>\n",
       "      <th>18729</th>\n",
       "      <td>280</td>\n",
       "    </tr>\n",
       "    <tr>\n",
       "      <th>18730</th>\n",
       "      <td>263</td>\n",
       "    </tr>\n",
       "  </tbody>\n",
       "</table>\n",
       "<p>92834 rows × 1 columns</p>\n",
       "</div>"
      ],
      "text/plain": [
       "                 weight\n",
       "userID artistID        \n",
       "2      51         13883\n",
       "       52         11690\n",
       "       53         11351\n",
       "       54         10300\n",
       "       55          8983\n",
       "...                 ...\n",
       "2100   18726        337\n",
       "       18727        297\n",
       "       18728        281\n",
       "       18729        280\n",
       "       18730        263\n",
       "\n",
       "[92834 rows x 1 columns]"
      ]
     },
     "execution_count": 7,
     "metadata": {},
     "output_type": "execute_result"
    }
   ],
   "source": [
    "user_artist_plays"
   ]
  },
  {
   "cell_type": "markdown",
   "id": "b242740d-5806-49cc-bc8f-8c7f2034c908",
   "metadata": {},
   "source": [
    "### User Count"
   ]
  },
  {
   "cell_type": "code",
   "execution_count": 44,
   "id": "11b47405-bb42-496e-84df-6b415af2cae3",
   "metadata": {},
   "outputs": [
    {
     "data": {
      "text/plain": [
       "1892"
      ]
     },
     "execution_count": 44,
     "metadata": {},
     "output_type": "execute_result"
    }
   ],
   "source": [
    "len(user_artist_plays.index.get_level_values(0).unique())"
   ]
  },
  {
   "cell_type": "markdown",
   "id": "d027c396-fef7-4e77-aded-927ed7bfa32e",
   "metadata": {},
   "source": [
    "### Artist Count"
   ]
  },
  {
   "cell_type": "code",
   "execution_count": 45,
   "id": "8f593933-aeef-493e-8a05-78776858050b",
   "metadata": {},
   "outputs": [
    {
     "data": {
      "text/plain": [
       "17632"
      ]
     },
     "execution_count": 45,
     "metadata": {},
     "output_type": "execute_result"
    }
   ],
   "source": [
    "len(user_artist_plays.index.get_level_values(1).unique())"
   ]
  },
  {
   "cell_type": "markdown",
   "id": "341c0c4d-94bd-4caa-b01c-f7cc94909100",
   "metadata": {},
   "source": [
    "#### Function to generate a COO matrix from the User-Artist interactions data"
   ]
  },
  {
   "cell_type": "code",
   "execution_count": 24,
   "id": "69565527-5f09-4c5b-aa68-4f4aae4cf1de",
   "metadata": {},
   "outputs": [],
   "source": [
    "def load_user_artist_plays_matrix(user_artist_path):\n",
    "    \n",
    "    user_artist_plays = pd.read_csv(user_artist_path, sep=\"\\t\")\n",
    "\n",
    "    user_artist_plays.set_index([\"userID\", \"artistID\"], inplace=True)\n",
    "\n",
    "    plays_data = user_artist_plays.weight.astype(float)\n",
    "    matrix_rows = user_artist_plays.index.get_level_values(0)\n",
    "    matrix_columns = user_artist_plays.index.get_level_values(1)\n",
    "\n",
    "    coo = scipy.sparse.coo_matrix(\n",
    "        (\n",
    "            plays_data, (matrix_rows, matrix_columns)\n",
    "        )\n",
    "    )\n",
    "\n",
    "    return coo\n",
    "    "
   ]
  },
  {
   "cell_type": "markdown",
   "id": "625400f4-7bbb-458a-b013-b44a530aa20f",
   "metadata": {},
   "source": [
    "#### Artist Retriever Class"
   ]
  },
  {
   "cell_type": "code",
   "execution_count": 61,
   "id": "44a84000-32ba-4ec6-a093-b0cf44f5f9f4",
   "metadata": {},
   "outputs": [],
   "source": [
    "class artist_retriever:\n",
    "    \n",
    "    def __init__(self):\n",
    "        self.artists_df = None\n",
    "\n",
    "    def load_artists(self, data_path):\n",
    "        artists_df = pd.read_csv(data_path, sep=\"\\t\")\n",
    "        artists_df = artists_df.set_index(\"id\")\n",
    "        artists_df = artists_df.drop([\"url\", \"pictureURL\"], axis=1)\n",
    "        self.artists_df = artists_df\n",
    "\n",
    "    def fetch_artist_name(self, artist_id):\n",
    "        return self.artists_df.loc[artist_id, \"name\"]\n",
    "        "
   ]
  },
  {
   "cell_type": "markdown",
   "id": "add9ac39-aa93-4a22-8727-09f2b930bdd0",
   "metadata": {},
   "source": [
    "#### Convert the COO matrix to a CSR (Compressed Sparse Row) matrix\n"
   ]
  },
  {
   "cell_type": "code",
   "execution_count": 75,
   "id": "ea9db0f8-064e-48fb-8e42-01512a7f94a0",
   "metadata": {},
   "outputs": [
    {
     "name": "stdout",
     "output_type": "stream",
     "text": [
      "<Compressed Sparse Row sparse matrix of dtype 'float64'\n",
      "\twith 100 stored elements and shape (2, 18746)>\n",
      "  Coords\tValues\n",
      "  (0, 51)\t13883.0\n",
      "  (0, 52)\t11690.0\n",
      "  (0, 53)\t11351.0\n",
      "  (0, 54)\t10300.0\n",
      "  (0, 55)\t8983.0\n",
      "  (0, 56)\t6152.0\n",
      "  (0, 57)\t5955.0\n",
      "  (0, 58)\t4616.0\n",
      "  (0, 59)\t4337.0\n",
      "  (0, 60)\t4147.0\n",
      "  (0, 61)\t3923.0\n",
      "  (0, 62)\t3782.0\n",
      "  (0, 63)\t3735.0\n",
      "  (0, 64)\t3644.0\n",
      "  (0, 65)\t3579.0\n",
      "  (0, 66)\t3312.0\n",
      "  (0, 67)\t3301.0\n",
      "  (0, 68)\t2927.0\n",
      "  (0, 69)\t2720.0\n",
      "  (0, 70)\t2686.0\n",
      "  (0, 71)\t2654.0\n",
      "  (0, 72)\t2619.0\n",
      "  (0, 73)\t2584.0\n",
      "  (0, 74)\t2547.0\n",
      "  (0, 75)\t2397.0\n",
      "  :\t:\n",
      "  (1, 126)\t94.0\n",
      "  (1, 127)\t89.0\n",
      "  (1, 128)\t89.0\n",
      "  (1, 129)\t86.0\n",
      "  (1, 130)\t85.0\n",
      "  (1, 131)\t84.0\n",
      "  (1, 132)\t83.0\n",
      "  (1, 133)\t83.0\n",
      "  (1, 134)\t77.0\n",
      "  (1, 135)\t77.0\n",
      "  (1, 136)\t76.0\n",
      "  (1, 137)\t75.0\n",
      "  (1, 138)\t72.0\n",
      "  (1, 139)\t72.0\n",
      "  (1, 140)\t71.0\n",
      "  (1, 141)\t70.0\n",
      "  (1, 142)\t70.0\n",
      "  (1, 143)\t70.0\n",
      "  (1, 144)\t69.0\n",
      "  (1, 145)\t68.0\n",
      "  (1, 146)\t67.0\n",
      "  (1, 147)\t67.0\n",
      "  (1, 148)\t66.0\n",
      "  (1, 149)\t66.0\n",
      "  (1, 150)\t65.0\n"
     ]
    }
   ],
   "source": [
    "user_artist_path = \"data/user_artists.dat\"\n",
    "\n",
    "coo_matrix = load_user_artist_plays_matrix(user_artist_path)\n",
    "\n",
    "csr_matrix = coo_matrix.tocsr()\n",
    "\n",
    "print(csr_matrix[[2,3]])\n"
   ]
  },
  {
   "cell_type": "code",
   "execution_count": 63,
   "id": "104e9ad4-bf67-466f-854d-d0c7c8c7e600",
   "metadata": {},
   "outputs": [
    {
     "name": "stdout",
     "output_type": "stream",
     "text": [
      "Killswitch Engage\n"
     ]
    }
   ],
   "source": [
    "# if __name__ == \"__main__\":\n",
    "\n",
    "artist_data_path = \"data/artists.dat\"\n",
    "\n",
    "artist_retriever_instance = artist_retriever()\n",
    "artist_retriever_instance.load_artists(artist_data_path)\n",
    "\n",
    "artist = artist_retriever_instance.fetch_artist_name(815)\n",
    "\n",
    "print(artist)"
   ]
  },
  {
   "cell_type": "code",
   "execution_count": null,
   "id": "b51c9a79-96ae-4668-b188-8394a8a552a9",
   "metadata": {},
   "outputs": [],
   "source": []
  }
 ],
 "metadata": {
  "kernelspec": {
   "display_name": "python-recommender-1",
   "language": "python",
   "name": "python-recommender-1"
  },
  "language_info": {
   "codemirror_mode": {
    "name": "ipython",
    "version": 3
   },
   "file_extension": ".py",
   "mimetype": "text/x-python",
   "name": "python",
   "nbconvert_exporter": "python",
   "pygments_lexer": "ipython3",
   "version": "3.12.0"
  }
 },
 "nbformat": 4,
 "nbformat_minor": 5
}
